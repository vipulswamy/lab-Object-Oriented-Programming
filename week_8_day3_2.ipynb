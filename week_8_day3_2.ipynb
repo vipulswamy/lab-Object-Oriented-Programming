{
 "cells": [
  {
   "cell_type": "markdown",
   "id": "e2444d75",
   "metadata": {},
   "source": [
    "# Lab | Object Oriented Programming"
   ]
  },
  {
   "cell_type": "markdown",
   "id": "67c6e559",
   "metadata": {},
   "source": [
    "### Introduction"
   ]
  },
  {
   "cell_type": "markdown",
   "id": "761b067a",
   "metadata": {},
   "source": [
    "#### In this lab you have to implement a Python class for a TV."
   ]
  },
  {
   "cell_type": "markdown",
   "id": "cd3aa0bb",
   "metadata": {},
   "source": [
    "#### Constructor"
   ]
  },
  {
   "cell_type": "markdown",
   "id": "8fa7e578",
   "metadata": {},
   "source": [
    "''' \n",
    "Create a Python Tv class with a constructor and the following attributes:\n",
    ".on (Boolean)\n",
    ".volume (float in [0,100])\n",
    ".active_channel (int in [1,10])\n",
    ".input (str in [\"Anthena\", \"HDMI1\", \"HDMI2\", \"HDMI3\"])\n",
    ".size (float in [42, 50, 55, 65, 75])\n",
    "'''"
   ]
  },
  {
   "cell_type": "code",
   "execution_count": 81,
   "id": "21c07772",
   "metadata": {},
   "outputs": [],
   "source": [
    "class television():\n",
    "    #off_state = \"\"\n",
    "    \n",
    "    # Constructor method of the class. This class \"needs\" as arguments: \"name\", \"age\", \"salary\" and optionaly \"department\"\n",
    "    def __init__(self):\n",
    "        #local declarations\n",
    "        self.on = False\n",
    "        self.volume = 20.50 #arbitraty floating number to declare\n",
    "        self.active_channel = 0\n",
    "        self.input = \"none\"\n",
    "        self.size = 30\n",
    "        \n",
    "    def switch_on(self):\n",
    "        self.on = True\n",
    "        print(\"tv is ON\")\n",
    "        \n",
    "    def set_volume(self,volume: float):\n",
    "        if volume in range(0,100):\n",
    "            self.volume = volume\n",
    "    \n",
    "    def active_channel(self,active_channel: int):\n",
    "        if active_channel in range(0,1000):\n",
    "            self.active_channel = active_channel\n",
    "            \n",
    "    def set_input(self,input:str):\n",
    "        if input in ([\"Antenna\", \"HDMI1\", \"HDMI2\", \"HDMI3\"]):\n",
    "            self.input = input\n",
    "            \n",
    "    def set_size(self, size: int):\n",
    "        if size in [42, 50, 55, 65, 75]:        \n",
    "            self.size = size    \n",
    "            \n",
    "    def switch_off(self): \n",
    "        self.on = False\n",
    "        print(\"turning off\")"
   ]
  },
  {
   "cell_type": "code",
   "execution_count": 82,
   "id": "78c6e732",
   "metadata": {},
   "outputs": [],
   "source": [
    "tv = television() #calling the object"
   ]
  },
  {
   "cell_type": "code",
   "execution_count": 83,
   "id": "efdbb671",
   "metadata": {},
   "outputs": [
    {
     "name": "stdout",
     "output_type": "stream",
     "text": [
      "tv is ON\n"
     ]
    }
   ],
   "source": [
    "tv.switch_on()"
   ]
  },
  {
   "cell_type": "code",
   "execution_count": 84,
   "id": "37e710b8",
   "metadata": {},
   "outputs": [],
   "source": [
    "tv.set_volume(30.5)"
   ]
  },
  {
   "cell_type": "code",
   "execution_count": 85,
   "id": "f04f0287",
   "metadata": {},
   "outputs": [],
   "source": [
    "tv.set_input(\"Antenna\")"
   ]
  },
  {
   "cell_type": "code",
   "execution_count": 86,
   "id": "e1524241",
   "metadata": {},
   "outputs": [],
   "source": [
    "tv.set_size(34)"
   ]
  },
  {
   "cell_type": "code",
   "execution_count": 87,
   "id": "a7010457",
   "metadata": {},
   "outputs": [
    {
     "name": "stdout",
     "output_type": "stream",
     "text": [
      "turning off\n"
     ]
    }
   ],
   "source": [
    "tv.switch_off()"
   ]
  }
 ],
 "metadata": {
  "kernelspec": {
   "display_name": "Python 3 (ipykernel)",
   "language": "python",
   "name": "python3"
  },
  "language_info": {
   "codemirror_mode": {
    "name": "ipython",
    "version": 3
   },
   "file_extension": ".py",
   "mimetype": "text/x-python",
   "name": "python",
   "nbconvert_exporter": "python",
   "pygments_lexer": "ipython3",
   "version": "3.9.12"
  }
 },
 "nbformat": 4,
 "nbformat_minor": 5
}
