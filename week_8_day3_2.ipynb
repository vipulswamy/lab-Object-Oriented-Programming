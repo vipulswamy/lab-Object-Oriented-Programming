{
 "cells": [
  {
   "cell_type": "markdown",
   "id": "e2444d75",
   "metadata": {},
   "source": [
    "# Lab | Object Oriented Programming"
   ]
  },
  {
   "cell_type": "markdown",
   "id": "67c6e559",
   "metadata": {},
   "source": [
    "### Introduction"
   ]
  },
  {
   "cell_type": "markdown",
   "id": "761b067a",
   "metadata": {},
   "source": [
    "#### In this lab you have to implement a Python class for a TV."
   ]
  },
  {
   "cell_type": "markdown",
   "id": "cd3aa0bb",
   "metadata": {},
   "source": [
    "#### Constructor"
   ]
  },
  {
   "cell_type": "markdown",
   "id": "8fa7e578",
   "metadata": {},
   "source": [
    "''' \n",
    "Create a Python Tv class with a constructor and the following attributes:\n",
    ".on (Boolean)\n",
    ".volume (float in [0,100])\n",
    ".active_channel (int in [1,10])\n",
    ".input (str in [\"Anthena\", \"HDMI1\", \"HDMI2\", \"HDMI3\"])\n",
    ".size (float in [42, 50, 55, 65, 75])\n",
    "'''"
   ]
  },
  {
   "cell_type": "code",
   "execution_count": null,
   "id": "21c07772",
   "metadata": {},
   "outputs": [],
   "source": [
    "class television():\n",
    "    \n",
    "    # Class variable: this variable is common to every instance of the class\n",
    "    annual_raise = 1.04\n",
    "    \n",
    "    # Constructor method of the class. This class \"needs\" as arguments: \"name\", \"age\", \"salary\" and optionaly \"department\"\n",
    "    def __init__(self, on, volume, active_channel,input,size department='sales'):\n",
    "        # self is the instance of the class.\n",
    "        # Here we define all the \"attributes\" of the class. Bear in mind that the attributes can be of ANY type\n",
    "        # name -> str\n",
    "        # age -> int\n",
    "        # salay -> float\n",
    "        # department -> string\n",
    "        # we can also set attributes as lists, dictionaries,...etc.\n",
    "        self.name = name\n",
    "        self.age = age\n",
    "        self.salary = salary\n",
    "        self.department = department\n",
    "\n",
    "    # This is one method of the class, to display the info the the employee.\n",
    "    # Bear in mind that it uses \"self\" to access to the instance attributes.    \n",
    "    def showEmp(self, show_sal = False):\n",
    "        print('Emp name: ' + self.name)\n",
    "        print('Emp age: ' + str(self.age))\n",
    "        if show_sal:\n",
    "            print('Emp sal :' + str(self.salary))\n",
    "    \n",
    "    # Another method of the class.\n",
    "    def giveRaise(self):\n",
    "        self.salary = round(self.salary * self.annual_raise)\n"
   ]
  }
 ],
 "metadata": {
  "kernelspec": {
   "display_name": "Python 3 (ipykernel)",
   "language": "python",
   "name": "python3"
  },
  "language_info": {
   "codemirror_mode": {
    "name": "ipython",
    "version": 3
   },
   "file_extension": ".py",
   "mimetype": "text/x-python",
   "name": "python",
   "nbconvert_exporter": "python",
   "pygments_lexer": "ipython3",
   "version": "3.9.12"
  }
 },
 "nbformat": 4,
 "nbformat_minor": 5
}
